{
 "cells": [
  {
   "cell_type": "code",
   "execution_count": 1,
   "id": "6e32121c",
   "metadata": {},
   "outputs": [],
   "source": [
    "import pandas as pd\n",
    "from sklearn.preprocessing import OneHotEncoder\n",
    "from sklearn.preprocessing import MinMaxScaler\n",
    "from sklearn.linear_model import LinearRegression\n",
    "\n",
    "\n",
    "import joblib"
   ]
  },
  {
   "cell_type": "code",
   "execution_count": 2,
   "id": "6d2aa4c8",
   "metadata": {},
   "outputs": [],
   "source": [
    "data = pd.read_csv('Flight_Train.csv')"
   ]
  },
  {
   "cell_type": "code",
   "execution_count": 3,
   "id": "b0c712b5",
   "metadata": {},
   "outputs": [
    {
     "data": {
      "text/html": [
       "<div>\n",
       "<style scoped>\n",
       "    .dataframe tbody tr th:only-of-type {\n",
       "        vertical-align: middle;\n",
       "    }\n",
       "\n",
       "    .dataframe tbody tr th {\n",
       "        vertical-align: top;\n",
       "    }\n",
       "\n",
       "    .dataframe thead th {\n",
       "        text-align: right;\n",
       "    }\n",
       "</style>\n",
       "<table border=\"1\" class=\"dataframe\">\n",
       "  <thead>\n",
       "    <tr style=\"text-align: right;\">\n",
       "      <th></th>\n",
       "      <th>Airline</th>\n",
       "      <th>Date_of_Journey</th>\n",
       "      <th>Source</th>\n",
       "      <th>Destination</th>\n",
       "      <th>Route</th>\n",
       "      <th>Dep_Time</th>\n",
       "      <th>Arrival_Time</th>\n",
       "      <th>Duration</th>\n",
       "      <th>Total_Stops</th>\n",
       "      <th>Additional_Info</th>\n",
       "      <th>Price</th>\n",
       "    </tr>\n",
       "  </thead>\n",
       "  <tbody>\n",
       "    <tr>\n",
       "      <th>0</th>\n",
       "      <td>IndiGo</td>\n",
       "      <td>24/03/2019</td>\n",
       "      <td>Banglore</td>\n",
       "      <td>New Delhi</td>\n",
       "      <td>BLR ? DEL</td>\n",
       "      <td>22:20</td>\n",
       "      <td>01:10 22 Mar</td>\n",
       "      <td>2h 50m</td>\n",
       "      <td>non-stop</td>\n",
       "      <td>No info</td>\n",
       "      <td>3897</td>\n",
       "    </tr>\n",
       "    <tr>\n",
       "      <th>1</th>\n",
       "      <td>Air India</td>\n",
       "      <td>1/05/2019</td>\n",
       "      <td>Kolkata</td>\n",
       "      <td>Banglore</td>\n",
       "      <td>CCU ? IXR ? BBI ? BLR</td>\n",
       "      <td>05:50</td>\n",
       "      <td>13:15</td>\n",
       "      <td>7h 25m</td>\n",
       "      <td>2 stops</td>\n",
       "      <td>No info</td>\n",
       "      <td>7662</td>\n",
       "    </tr>\n",
       "  </tbody>\n",
       "</table>\n",
       "</div>"
      ],
      "text/plain": [
       "     Airline Date_of_Journey    Source Destination                  Route  \\\n",
       "0     IndiGo      24/03/2019  Banglore   New Delhi              BLR ? DEL   \n",
       "1  Air India       1/05/2019   Kolkata    Banglore  CCU ? IXR ? BBI ? BLR   \n",
       "\n",
       "  Dep_Time  Arrival_Time Duration Total_Stops Additional_Info  Price  \n",
       "0    22:20  01:10 22 Mar   2h 50m    non-stop         No info   3897  \n",
       "1    05:50         13:15   7h 25m     2 stops         No info   7662  "
      ]
     },
     "execution_count": 3,
     "metadata": {},
     "output_type": "execute_result"
    }
   ],
   "source": [
    "data.head(2)"
   ]
  },
  {
   "cell_type": "code",
   "execution_count": 5,
   "id": "aa905082",
   "metadata": {},
   "outputs": [
    {
     "data": {
      "text/plain": [
       "220"
      ]
     },
     "execution_count": 5,
     "metadata": {},
     "output_type": "execute_result"
    }
   ],
   "source": [
    "data.duplicated().sum()"
   ]
  },
  {
   "cell_type": "code",
   "execution_count": 6,
   "id": "99a205be",
   "metadata": {},
   "outputs": [],
   "source": [
    "# Duplicate handling\n",
    "data.drop_duplicates(inplace = True)"
   ]
  },
  {
   "cell_type": "code",
   "execution_count": 7,
   "id": "dba156bc",
   "metadata": {},
   "outputs": [
    {
     "data": {
      "text/plain": [
       "Airline            0\n",
       "Date_of_Journey    0\n",
       "Source             0\n",
       "Destination        0\n",
       "Route              1\n",
       "Dep_Time           0\n",
       "Arrival_Time       0\n",
       "Duration           0\n",
       "Total_Stops        1\n",
       "Additional_Info    0\n",
       "Price              0\n",
       "dtype: int64"
      ]
     },
     "execution_count": 7,
     "metadata": {},
     "output_type": "execute_result"
    }
   ],
   "source": [
    "data.isna().sum()"
   ]
  },
  {
   "cell_type": "code",
   "execution_count": 8,
   "id": "b9bb0b92",
   "metadata": {},
   "outputs": [],
   "source": [
    "# Null Value dropping\n",
    "data.dropna(subset = ['Route','Total_Stops'],inplace = True)"
   ]
  },
  {
   "cell_type": "code",
   "execution_count": 15,
   "id": "3b13e2a2",
   "metadata": {},
   "outputs": [],
   "source": [
    "from sklearn.pipeline import Pipeline\n",
    "from sklearn.compose import ColumnTransformer\n",
    "from sklearn.base import BaseEstimator,TransformerMixin"
   ]
  },
  {
   "cell_type": "code",
   "execution_count": 16,
   "id": "34eb40ce",
   "metadata": {},
   "outputs": [],
   "source": [
    "class CustomTransformer(BaseEstimator, TransformerMixin):\n",
    "    def __init__(self):\n",
    "        print('\\n>>>>>>>init() called.\\n')\n",
    "    def fit(self, X, y = None):\n",
    "        print('\\n>>>>>>>fit() called.\\n')\n",
    "        return self\n",
    "    def transform(self, X, y = None):\n",
    "        print('\\n>>>>>>>transform() called.\\n')\n",
    "        print(\"\\n>>>> Input : \",X)\n",
    "        X.drop(columns = 'Route',inplace = True)\n",
    "        X['Source'] = X['Source'].apply(lambda x: x.lower())\n",
    "        X['Destination'] = X['Destination'].replace({'New Delhi':'Delhi'})\n",
    "        X['Destination'] = X['Destination'].apply(lambda x: x.lower())\n",
    "        X['Date_of_Journey'] = pd.to_datetime(X['Date_of_Journey'],dayfirst = True)\n",
    "        X['Day_of_Journey'] = X['Date_of_Journey'].dt.weekday\n",
    "        X['Day_of_Journey'] = X['Day_of_Journey'].replace({0:'Monday',1:'Tuesday',2:'Wednesday',3:'Thursday',4:'Friday',5:'Saturday',6:'Sunday'})\n",
    "        X['Month'] = X['Date_of_Journey'].dt.month\n",
    "        X['Month'] = X['Month'].replace({1:'January',2:'February',3:'March',4:'April',5:'May',6:'June',7:'July',8:'August',9:'September',10:'October',11:'November',12:'December'})\n",
    "        X.drop(columns = 'Date_of_Journey',inplace = True)\n",
    "        X.loc[X['Dep_Time'] < '12:00','Dep_Time']='AM'\n",
    "        X.loc[X['Dep_Time'] !='AM','Dep_Time']='PM'\n",
    "        X['Arrival_Time'] = X['Arrival_Time'].apply(lambda x: x.split()[0])\n",
    "        X.loc[X['Arrival_Time'] < '12:00','Arrival_Time']='AM'\n",
    "        X.loc[X['Arrival_Time'] !='AM','Arrival_Time']='PM'\n",
    "        X['Additional_Info'].replace({'No info':'No Info'},inplace = True)\n",
    "        print(\"\\n>>>> Output : \", X)\n",
    "        return X"
   ]
  },
  {
   "cell_type": "code",
   "execution_count": 34,
   "id": "a3b88859",
   "metadata": {},
   "outputs": [],
   "source": [
    "class CustomTransformer1(BaseEstimator, TransformerMixin):\n",
    "    def __init__(self):\n",
    "        print('\\n>>>>>>>init() called.\\n numerical')\n",
    "    def fit(self, X, y = None):\n",
    "        print('\\n>>>>>>>fit() called.\\n numerical')\n",
    "        return self\n",
    "    def transform(self, X, y = None):\n",
    "        print('\\n>>>>>>>transform() called.\\n numerical')\n",
    "        print(\"\\n>>>> Input : \",X)\n",
    "        X['Duration'] = (pd.to_timedelta(X['Duration']).dt.seconds // 60).astype(int)\n",
    "        #X.drop(columns = 'Duration',inplace = True)\n",
    "        #DF = pd.DataFrame(X['Duration'])\n",
    "        print(\"\\n>>>> Output : \",X)\n",
    "        return X"
   ]
  },
  {
   "cell_type": "code",
   "execution_count": 42,
   "id": "f58cf24f",
   "metadata": {},
   "outputs": [
    {
     "name": "stdout",
     "output_type": "stream",
     "text": [
      "\n",
      ">>>>>>>init() called.\n",
      "\n"
     ]
    }
   ],
   "source": [
    "categorical_preprocessing = Pipeline([\n",
    "    ('custom transforming',CustomTransformer()),\n",
    "    ('encoding',OneHotEncoder(sparse = False))    \n",
    "])"
   ]
  },
  {
   "cell_type": "code",
   "execution_count": 43,
   "id": "461f442c",
   "metadata": {},
   "outputs": [
    {
     "name": "stdout",
     "output_type": "stream",
     "text": [
      "\n",
      ">>>>>>>init() called.\n",
      " numerical\n"
     ]
    }
   ],
   "source": [
    "numerical_preprocessing = Pipeline([\n",
    "    ('custom transforming',CustomTransformer1()),\n",
    "    ('scaling',MinMaxScaler())\n",
    "])"
   ]
  },
  {
   "cell_type": "code",
   "execution_count": 44,
   "id": "b502087a",
   "metadata": {},
   "outputs": [],
   "source": [
    "Final_preprocessing = ColumnTransformer(\n",
    "transformers = \n",
    "    [\n",
    "    ('categorical preprocessing',categorical_preprocessing,['Airline', 'Date_of_Journey', 'Source', 'Destination', 'Route',\n",
    "    'Dep_Time', 'Arrival_Time','Total_Stops','Additional_Info']),\n",
    "    ('numerical preprocessing',numerical_preprocessing,['Duration'])      \n",
    "])"
   ]
  },
  {
   "cell_type": "code",
   "execution_count": 45,
   "id": "c48cba55",
   "metadata": {},
   "outputs": [],
   "source": [
    "package = Pipeline([\n",
    "    ('preprocess',Final_preprocessing),\n",
    "    ('model',LinearRegression())\n",
    "])"
   ]
  },
  {
   "cell_type": "code",
   "execution_count": 46,
   "id": "50eec3ce",
   "metadata": {},
   "outputs": [],
   "source": [
    "x = data.drop(columns = ['Price'])"
   ]
  },
  {
   "cell_type": "code",
   "execution_count": 47,
   "id": "2ce920d7",
   "metadata": {},
   "outputs": [],
   "source": [
    "y = data['Price']"
   ]
  },
  {
   "cell_type": "code",
   "execution_count": 48,
   "id": "68753c51",
   "metadata": {},
   "outputs": [
    {
     "name": "stdout",
     "output_type": "stream",
     "text": [
      "\n",
      ">>>>>>>init() called.\n",
      "\n",
      "\n",
      ">>>>>>>fit() called.\n",
      "\n",
      "\n",
      ">>>>>>>transform() called.\n",
      "\n",
      "\n",
      ">>>> Input :             Airline Date_of_Journey    Source Destination  \\\n",
      "0           IndiGo      24/03/2019  Banglore   New Delhi   \n",
      "1        Air India       1/05/2019   Kolkata    Banglore   \n",
      "2      Jet Airways       9/06/2019     Delhi      Cochin   \n",
      "3           IndiGo      12/05/2019   Kolkata    Banglore   \n",
      "4           IndiGo      01/03/2019  Banglore   New Delhi   \n",
      "...            ...             ...       ...         ...   \n",
      "10678     Air Asia       9/04/2019   Kolkata    Banglore   \n",
      "10679    Air India      27/04/2019   Kolkata    Banglore   \n",
      "10680  Jet Airways      27/04/2019  Banglore       Delhi   \n",
      "10681      Vistara      01/03/2019  Banglore   New Delhi   \n",
      "10682    Air India       9/05/2019     Delhi      Cochin   \n",
      "\n",
      "                       Route Dep_Time  Arrival_Time Total_Stops  \\\n",
      "0                  BLR ? DEL    22:20  01:10 22 Mar    non-stop   \n",
      "1      CCU ? IXR ? BBI ? BLR    05:50         13:15     2 stops   \n",
      "2      DEL ? LKO ? BOM ? COK    09:25  04:25 10 Jun     2 stops   \n",
      "3            CCU ? NAG ? BLR    18:05         23:30      1 stop   \n",
      "4            BLR ? NAG ? DEL    16:50         21:35      1 stop   \n",
      "...                      ...      ...           ...         ...   \n",
      "10678              CCU ? BLR    19:55         22:25    non-stop   \n",
      "10679              CCU ? BLR    20:45         23:20    non-stop   \n",
      "10680              BLR ? DEL    08:20         11:20    non-stop   \n",
      "10681              BLR ? DEL    11:30         14:10    non-stop   \n",
      "10682  DEL ? GOI ? BOM ? COK    10:55         19:15     2 stops   \n",
      "\n",
      "      Additional_Info  \n",
      "0             No info  \n",
      "1             No info  \n",
      "2             No info  \n",
      "3             No info  \n",
      "4             No info  \n",
      "...               ...  \n",
      "10678         No info  \n",
      "10679         No info  \n",
      "10680         No info  \n",
      "10681         No info  \n",
      "10682         No info  \n",
      "\n",
      "[10462 rows x 9 columns]\n",
      "\n",
      ">>>> Output :             Airline    Source Destination Dep_Time Arrival_Time Total_Stops  \\\n",
      "0           IndiGo  banglore       delhi       PM           AM    non-stop   \n",
      "1        Air India   kolkata    banglore       AM           PM     2 stops   \n",
      "2      Jet Airways     delhi      cochin       AM           AM     2 stops   \n",
      "3           IndiGo   kolkata    banglore       PM           PM      1 stop   \n",
      "4           IndiGo  banglore       delhi       PM           PM      1 stop   \n",
      "...            ...       ...         ...      ...          ...         ...   \n",
      "10678     Air Asia   kolkata    banglore       PM           PM    non-stop   \n",
      "10679    Air India   kolkata    banglore       PM           PM    non-stop   \n",
      "10680  Jet Airways  banglore       delhi       AM           AM    non-stop   \n",
      "10681      Vistara  banglore       delhi       AM           PM    non-stop   \n",
      "10682    Air India     delhi      cochin       AM           PM     2 stops   \n",
      "\n",
      "      Additional_Info Day_of_Journey  Month  \n",
      "0             No Info         Sunday  March  \n",
      "1             No Info      Wednesday    May  \n",
      "2             No Info         Sunday   June  \n",
      "3             No Info         Sunday    May  \n",
      "4             No Info         Friday  March  \n",
      "...               ...            ...    ...  \n",
      "10678         No Info        Tuesday  April  \n",
      "10679         No Info       Saturday  April  \n",
      "10680         No Info       Saturday  April  \n",
      "10681         No Info         Friday  March  \n",
      "10682         No Info       Thursday    May  \n",
      "\n",
      "[10462 rows x 9 columns]\n",
      "\n",
      ">>>>>>>init() called.\n",
      " numerical\n",
      "\n",
      ">>>>>>>fit() called.\n",
      "\n",
      "\n",
      ">>>>>>>transform() called.\n",
      "\n",
      "\n",
      ">>>> Input :        Duration\n",
      "0       2h 50m\n",
      "1       7h 25m\n",
      "2          19h\n",
      "3       5h 25m\n",
      "4       4h 45m\n",
      "...        ...\n",
      "10678   2h 30m\n",
      "10679   2h 35m\n",
      "10680       3h\n",
      "10681   2h 40m\n",
      "10682   8h 20m\n",
      "\n",
      "[10462 rows x 1 columns]\n",
      "\n",
      ">>>> Output :         Duration\n",
      "0           170\n",
      "1           445\n",
      "2          1140\n",
      "3           325\n",
      "4           285\n",
      "...         ...\n",
      "10678       150\n",
      "10679       155\n",
      "10680       180\n",
      "10681       160\n",
      "10682       500\n",
      "\n",
      "[10462 rows x 1 columns]\n"
     ]
    },
    {
     "name": "stderr",
     "output_type": "stream",
     "text": [
      "C:\\Users\\janani.jayavel\\AppData\\Local\\anaconda3\\Lib\\site-packages\\sklearn\\preprocessing\\_encoders.py:868: FutureWarning: `sparse` was renamed to `sparse_output` in version 1.2 and will be removed in 1.4. `sparse_output` is ignored unless you leave `sparse` to its default value.\n",
      "  warnings.warn(\n"
     ]
    },
    {
     "data": {
      "text/html": [
       "<style>#sk-container-id-3 {color: black;background-color: white;}#sk-container-id-3 pre{padding: 0;}#sk-container-id-3 div.sk-toggleable {background-color: white;}#sk-container-id-3 label.sk-toggleable__label {cursor: pointer;display: block;width: 100%;margin-bottom: 0;padding: 0.3em;box-sizing: border-box;text-align: center;}#sk-container-id-3 label.sk-toggleable__label-arrow:before {content: \"▸\";float: left;margin-right: 0.25em;color: #696969;}#sk-container-id-3 label.sk-toggleable__label-arrow:hover:before {color: black;}#sk-container-id-3 div.sk-estimator:hover label.sk-toggleable__label-arrow:before {color: black;}#sk-container-id-3 div.sk-toggleable__content {max-height: 0;max-width: 0;overflow: hidden;text-align: left;background-color: #f0f8ff;}#sk-container-id-3 div.sk-toggleable__content pre {margin: 0.2em;color: black;border-radius: 0.25em;background-color: #f0f8ff;}#sk-container-id-3 input.sk-toggleable__control:checked~div.sk-toggleable__content {max-height: 200px;max-width: 100%;overflow: auto;}#sk-container-id-3 input.sk-toggleable__control:checked~label.sk-toggleable__label-arrow:before {content: \"▾\";}#sk-container-id-3 div.sk-estimator input.sk-toggleable__control:checked~label.sk-toggleable__label {background-color: #d4ebff;}#sk-container-id-3 div.sk-label input.sk-toggleable__control:checked~label.sk-toggleable__label {background-color: #d4ebff;}#sk-container-id-3 input.sk-hidden--visually {border: 0;clip: rect(1px 1px 1px 1px);clip: rect(1px, 1px, 1px, 1px);height: 1px;margin: -1px;overflow: hidden;padding: 0;position: absolute;width: 1px;}#sk-container-id-3 div.sk-estimator {font-family: monospace;background-color: #f0f8ff;border: 1px dotted black;border-radius: 0.25em;box-sizing: border-box;margin-bottom: 0.5em;}#sk-container-id-3 div.sk-estimator:hover {background-color: #d4ebff;}#sk-container-id-3 div.sk-parallel-item::after {content: \"\";width: 100%;border-bottom: 1px solid gray;flex-grow: 1;}#sk-container-id-3 div.sk-label:hover label.sk-toggleable__label {background-color: #d4ebff;}#sk-container-id-3 div.sk-serial::before {content: \"\";position: absolute;border-left: 1px solid gray;box-sizing: border-box;top: 0;bottom: 0;left: 50%;z-index: 0;}#sk-container-id-3 div.sk-serial {display: flex;flex-direction: column;align-items: center;background-color: white;padding-right: 0.2em;padding-left: 0.2em;position: relative;}#sk-container-id-3 div.sk-item {position: relative;z-index: 1;}#sk-container-id-3 div.sk-parallel {display: flex;align-items: stretch;justify-content: center;background-color: white;position: relative;}#sk-container-id-3 div.sk-item::before, #sk-container-id-3 div.sk-parallel-item::before {content: \"\";position: absolute;border-left: 1px solid gray;box-sizing: border-box;top: 0;bottom: 0;left: 50%;z-index: -1;}#sk-container-id-3 div.sk-parallel-item {display: flex;flex-direction: column;z-index: 1;position: relative;background-color: white;}#sk-container-id-3 div.sk-parallel-item:first-child::after {align-self: flex-end;width: 50%;}#sk-container-id-3 div.sk-parallel-item:last-child::after {align-self: flex-start;width: 50%;}#sk-container-id-3 div.sk-parallel-item:only-child::after {width: 0;}#sk-container-id-3 div.sk-dashed-wrapped {border: 1px dashed gray;margin: 0 0.4em 0.5em 0.4em;box-sizing: border-box;padding-bottom: 0.4em;background-color: white;}#sk-container-id-3 div.sk-label label {font-family: monospace;font-weight: bold;display: inline-block;line-height: 1.2em;}#sk-container-id-3 div.sk-label-container {text-align: center;}#sk-container-id-3 div.sk-container {/* jupyter's `normalize.less` sets `[hidden] { display: none; }` but bootstrap.min.css set `[hidden] { display: none !important; }` so we also need the `!important` here to be able to override the default hidden behavior on the sphinx rendered scikit-learn.org. See: https://github.com/scikit-learn/scikit-learn/issues/21755 */display: inline-block !important;position: relative;}#sk-container-id-3 div.sk-text-repr-fallback {display: none;}</style><div id=\"sk-container-id-3\" class=\"sk-top-container\"><div class=\"sk-text-repr-fallback\"><pre>Pipeline(steps=[(&#x27;preprocess&#x27;,\n",
       "                 ColumnTransformer(transformers=[(&#x27;categorical preprocessing&#x27;,\n",
       "                                                  Pipeline(steps=[(&#x27;custom &#x27;\n",
       "                                                                   &#x27;transforming&#x27;,\n",
       "                                                                   CustomTransformer()),\n",
       "                                                                  (&#x27;encoding&#x27;,\n",
       "                                                                   OneHotEncoder(sparse=False))]),\n",
       "                                                  [&#x27;Airline&#x27;, &#x27;Date_of_Journey&#x27;,\n",
       "                                                   &#x27;Source&#x27;, &#x27;Destination&#x27;,\n",
       "                                                   &#x27;Route&#x27;, &#x27;Dep_Time&#x27;,\n",
       "                                                   &#x27;Arrival_Time&#x27;,\n",
       "                                                   &#x27;Total_Stops&#x27;,\n",
       "                                                   &#x27;Additional_Info&#x27;]),\n",
       "                                                 (&#x27;numerical preprocessing&#x27;,\n",
       "                                                  Pipeline(steps=[(&#x27;custom &#x27;\n",
       "                                                                   &#x27;transforming&#x27;,\n",
       "                                                                   CustomTransformer1()),\n",
       "                                                                  (&#x27;scaling&#x27;,\n",
       "                                                                   MinMaxScaler())]),\n",
       "                                                  [&#x27;Duration&#x27;])])),\n",
       "                (&#x27;model&#x27;, LinearRegression())])</pre><b>In a Jupyter environment, please rerun this cell to show the HTML representation or trust the notebook. <br />On GitHub, the HTML representation is unable to render, please try loading this page with nbviewer.org.</b></div><div class=\"sk-container\" hidden><div class=\"sk-item sk-dashed-wrapped\"><div class=\"sk-label-container\"><div class=\"sk-label sk-toggleable\"><input class=\"sk-toggleable__control sk-hidden--visually\" id=\"sk-estimator-id-19\" type=\"checkbox\" ><label for=\"sk-estimator-id-19\" class=\"sk-toggleable__label sk-toggleable__label-arrow\">Pipeline</label><div class=\"sk-toggleable__content\"><pre>Pipeline(steps=[(&#x27;preprocess&#x27;,\n",
       "                 ColumnTransformer(transformers=[(&#x27;categorical preprocessing&#x27;,\n",
       "                                                  Pipeline(steps=[(&#x27;custom &#x27;\n",
       "                                                                   &#x27;transforming&#x27;,\n",
       "                                                                   CustomTransformer()),\n",
       "                                                                  (&#x27;encoding&#x27;,\n",
       "                                                                   OneHotEncoder(sparse=False))]),\n",
       "                                                  [&#x27;Airline&#x27;, &#x27;Date_of_Journey&#x27;,\n",
       "                                                   &#x27;Source&#x27;, &#x27;Destination&#x27;,\n",
       "                                                   &#x27;Route&#x27;, &#x27;Dep_Time&#x27;,\n",
       "                                                   &#x27;Arrival_Time&#x27;,\n",
       "                                                   &#x27;Total_Stops&#x27;,\n",
       "                                                   &#x27;Additional_Info&#x27;]),\n",
       "                                                 (&#x27;numerical preprocessing&#x27;,\n",
       "                                                  Pipeline(steps=[(&#x27;custom &#x27;\n",
       "                                                                   &#x27;transforming&#x27;,\n",
       "                                                                   CustomTransformer1()),\n",
       "                                                                  (&#x27;scaling&#x27;,\n",
       "                                                                   MinMaxScaler())]),\n",
       "                                                  [&#x27;Duration&#x27;])])),\n",
       "                (&#x27;model&#x27;, LinearRegression())])</pre></div></div></div><div class=\"sk-serial\"><div class=\"sk-item sk-dashed-wrapped\"><div class=\"sk-label-container\"><div class=\"sk-label sk-toggleable\"><input class=\"sk-toggleable__control sk-hidden--visually\" id=\"sk-estimator-id-20\" type=\"checkbox\" ><label for=\"sk-estimator-id-20\" class=\"sk-toggleable__label sk-toggleable__label-arrow\">preprocess: ColumnTransformer</label><div class=\"sk-toggleable__content\"><pre>ColumnTransformer(transformers=[(&#x27;categorical preprocessing&#x27;,\n",
       "                                 Pipeline(steps=[(&#x27;custom transforming&#x27;,\n",
       "                                                  CustomTransformer()),\n",
       "                                                 (&#x27;encoding&#x27;,\n",
       "                                                  OneHotEncoder(sparse=False))]),\n",
       "                                 [&#x27;Airline&#x27;, &#x27;Date_of_Journey&#x27;, &#x27;Source&#x27;,\n",
       "                                  &#x27;Destination&#x27;, &#x27;Route&#x27;, &#x27;Dep_Time&#x27;,\n",
       "                                  &#x27;Arrival_Time&#x27;, &#x27;Total_Stops&#x27;,\n",
       "                                  &#x27;Additional_Info&#x27;]),\n",
       "                                (&#x27;numerical preprocessing&#x27;,\n",
       "                                 Pipeline(steps=[(&#x27;custom transforming&#x27;,\n",
       "                                                  CustomTransformer1()),\n",
       "                                                 (&#x27;scaling&#x27;, MinMaxScaler())]),\n",
       "                                 [&#x27;Duration&#x27;])])</pre></div></div></div><div class=\"sk-parallel\"><div class=\"sk-parallel-item\"><div class=\"sk-item\"><div class=\"sk-label-container\"><div class=\"sk-label sk-toggleable\"><input class=\"sk-toggleable__control sk-hidden--visually\" id=\"sk-estimator-id-21\" type=\"checkbox\" ><label for=\"sk-estimator-id-21\" class=\"sk-toggleable__label sk-toggleable__label-arrow\">categorical preprocessing</label><div class=\"sk-toggleable__content\"><pre>[&#x27;Airline&#x27;, &#x27;Date_of_Journey&#x27;, &#x27;Source&#x27;, &#x27;Destination&#x27;, &#x27;Route&#x27;, &#x27;Dep_Time&#x27;, &#x27;Arrival_Time&#x27;, &#x27;Total_Stops&#x27;, &#x27;Additional_Info&#x27;]</pre></div></div></div><div class=\"sk-serial\"><div class=\"sk-item\"><div class=\"sk-serial\"><div class=\"sk-item\"><div class=\"sk-estimator sk-toggleable\"><input class=\"sk-toggleable__control sk-hidden--visually\" id=\"sk-estimator-id-22\" type=\"checkbox\" ><label for=\"sk-estimator-id-22\" class=\"sk-toggleable__label sk-toggleable__label-arrow\">CustomTransformer</label><div class=\"sk-toggleable__content\"><pre>CustomTransformer()</pre></div></div></div><div class=\"sk-item\"><div class=\"sk-estimator sk-toggleable\"><input class=\"sk-toggleable__control sk-hidden--visually\" id=\"sk-estimator-id-23\" type=\"checkbox\" ><label for=\"sk-estimator-id-23\" class=\"sk-toggleable__label sk-toggleable__label-arrow\">OneHotEncoder</label><div class=\"sk-toggleable__content\"><pre>OneHotEncoder(sparse=False)</pre></div></div></div></div></div></div></div></div><div class=\"sk-parallel-item\"><div class=\"sk-item\"><div class=\"sk-label-container\"><div class=\"sk-label sk-toggleable\"><input class=\"sk-toggleable__control sk-hidden--visually\" id=\"sk-estimator-id-24\" type=\"checkbox\" ><label for=\"sk-estimator-id-24\" class=\"sk-toggleable__label sk-toggleable__label-arrow\">numerical preprocessing</label><div class=\"sk-toggleable__content\"><pre>[&#x27;Duration&#x27;]</pre></div></div></div><div class=\"sk-serial\"><div class=\"sk-item\"><div class=\"sk-serial\"><div class=\"sk-item\"><div class=\"sk-estimator sk-toggleable\"><input class=\"sk-toggleable__control sk-hidden--visually\" id=\"sk-estimator-id-25\" type=\"checkbox\" ><label for=\"sk-estimator-id-25\" class=\"sk-toggleable__label sk-toggleable__label-arrow\">CustomTransformer1</label><div class=\"sk-toggleable__content\"><pre>CustomTransformer1()</pre></div></div></div><div class=\"sk-item\"><div class=\"sk-estimator sk-toggleable\"><input class=\"sk-toggleable__control sk-hidden--visually\" id=\"sk-estimator-id-26\" type=\"checkbox\" ><label for=\"sk-estimator-id-26\" class=\"sk-toggleable__label sk-toggleable__label-arrow\">MinMaxScaler</label><div class=\"sk-toggleable__content\"><pre>MinMaxScaler()</pre></div></div></div></div></div></div></div></div></div></div><div class=\"sk-item\"><div class=\"sk-estimator sk-toggleable\"><input class=\"sk-toggleable__control sk-hidden--visually\" id=\"sk-estimator-id-27\" type=\"checkbox\" ><label for=\"sk-estimator-id-27\" class=\"sk-toggleable__label sk-toggleable__label-arrow\">LinearRegression</label><div class=\"sk-toggleable__content\"><pre>LinearRegression()</pre></div></div></div></div></div></div></div>"
      ],
      "text/plain": [
       "Pipeline(steps=[('preprocess',\n",
       "                 ColumnTransformer(transformers=[('categorical preprocessing',\n",
       "                                                  Pipeline(steps=[('custom '\n",
       "                                                                   'transforming',\n",
       "                                                                   CustomTransformer()),\n",
       "                                                                  ('encoding',\n",
       "                                                                   OneHotEncoder(sparse=False))]),\n",
       "                                                  ['Airline', 'Date_of_Journey',\n",
       "                                                   'Source', 'Destination',\n",
       "                                                   'Route', 'Dep_Time',\n",
       "                                                   'Arrival_Time',\n",
       "                                                   'Total_Stops',\n",
       "                                                   'Additional_Info']),\n",
       "                                                 ('numerical preprocessing',\n",
       "                                                  Pipeline(steps=[('custom '\n",
       "                                                                   'transforming',\n",
       "                                                                   CustomTransformer1()),\n",
       "                                                                  ('scaling',\n",
       "                                                                   MinMaxScaler())]),\n",
       "                                                  ['Duration'])])),\n",
       "                ('model', LinearRegression())])"
      ]
     },
     "execution_count": 48,
     "metadata": {},
     "output_type": "execute_result"
    }
   ],
   "source": [
    "package.fit(x,y)"
   ]
  },
  {
   "cell_type": "code",
   "execution_count": 49,
   "id": "bc0b9c01",
   "metadata": {},
   "outputs": [
    {
     "name": "stdout",
     "output_type": "stream",
     "text": [
      "\n",
      ">>>>>>>transform() called.\n",
      "\n",
      "\n",
      ">>>> Input :             Airline Date_of_Journey    Source Destination  \\\n",
      "0           IndiGo      24/03/2019  Banglore   New Delhi   \n",
      "1        Air India       1/05/2019   Kolkata    Banglore   \n",
      "2      Jet Airways       9/06/2019     Delhi      Cochin   \n",
      "3           IndiGo      12/05/2019   Kolkata    Banglore   \n",
      "4           IndiGo      01/03/2019  Banglore   New Delhi   \n",
      "...            ...             ...       ...         ...   \n",
      "10678     Air Asia       9/04/2019   Kolkata    Banglore   \n",
      "10679    Air India      27/04/2019   Kolkata    Banglore   \n",
      "10680  Jet Airways      27/04/2019  Banglore       Delhi   \n",
      "10681      Vistara      01/03/2019  Banglore   New Delhi   \n",
      "10682    Air India       9/05/2019     Delhi      Cochin   \n",
      "\n",
      "                       Route Dep_Time  Arrival_Time Total_Stops  \\\n",
      "0                  BLR ? DEL    22:20  01:10 22 Mar    non-stop   \n",
      "1      CCU ? IXR ? BBI ? BLR    05:50         13:15     2 stops   \n",
      "2      DEL ? LKO ? BOM ? COK    09:25  04:25 10 Jun     2 stops   \n",
      "3            CCU ? NAG ? BLR    18:05         23:30      1 stop   \n",
      "4            BLR ? NAG ? DEL    16:50         21:35      1 stop   \n",
      "...                      ...      ...           ...         ...   \n",
      "10678              CCU ? BLR    19:55         22:25    non-stop   \n",
      "10679              CCU ? BLR    20:45         23:20    non-stop   \n",
      "10680              BLR ? DEL    08:20         11:20    non-stop   \n",
      "10681              BLR ? DEL    11:30         14:10    non-stop   \n",
      "10682  DEL ? GOI ? BOM ? COK    10:55         19:15     2 stops   \n",
      "\n",
      "      Additional_Info  \n",
      "0             No info  \n",
      "1             No info  \n",
      "2             No info  \n",
      "3             No info  \n",
      "4             No info  \n",
      "...               ...  \n",
      "10678         No info  \n",
      "10679         No info  \n",
      "10680         No info  \n",
      "10681         No info  \n",
      "10682         No info  \n",
      "\n",
      "[10462 rows x 9 columns]\n",
      "\n",
      ">>>> Output :             Airline    Source Destination Dep_Time Arrival_Time Total_Stops  \\\n",
      "0           IndiGo  banglore       delhi       PM           AM    non-stop   \n",
      "1        Air India   kolkata    banglore       AM           PM     2 stops   \n",
      "2      Jet Airways     delhi      cochin       AM           AM     2 stops   \n",
      "3           IndiGo   kolkata    banglore       PM           PM      1 stop   \n",
      "4           IndiGo  banglore       delhi       PM           PM      1 stop   \n",
      "...            ...       ...         ...      ...          ...         ...   \n",
      "10678     Air Asia   kolkata    banglore       PM           PM    non-stop   \n",
      "10679    Air India   kolkata    banglore       PM           PM    non-stop   \n",
      "10680  Jet Airways  banglore       delhi       AM           AM    non-stop   \n",
      "10681      Vistara  banglore       delhi       AM           PM    non-stop   \n",
      "10682    Air India     delhi      cochin       AM           PM     2 stops   \n",
      "\n",
      "      Additional_Info Day_of_Journey  Month  \n",
      "0             No Info         Sunday  March  \n",
      "1             No Info      Wednesday    May  \n",
      "2             No Info         Sunday   June  \n",
      "3             No Info         Sunday    May  \n",
      "4             No Info         Friday  March  \n",
      "...               ...            ...    ...  \n",
      "10678         No Info        Tuesday  April  \n",
      "10679         No Info       Saturday  April  \n",
      "10680         No Info       Saturday  April  \n",
      "10681         No Info         Friday  March  \n",
      "10682         No Info       Thursday    May  \n",
      "\n",
      "[10462 rows x 9 columns]\n",
      "\n",
      ">>>>>>>transform() called.\n",
      "\n",
      "\n",
      ">>>> Input :        Duration\n",
      "0       2h 50m\n",
      "1       7h 25m\n",
      "2          19h\n",
      "3       5h 25m\n",
      "4       4h 45m\n",
      "...        ...\n",
      "10678   2h 30m\n",
      "10679   2h 35m\n",
      "10680       3h\n",
      "10681   2h 40m\n",
      "10682   8h 20m\n",
      "\n",
      "[10462 rows x 1 columns]\n",
      "\n",
      ">>>> Output :         Duration\n",
      "0           170\n",
      "1           445\n",
      "2          1140\n",
      "3           325\n",
      "4           285\n",
      "...         ...\n",
      "10678       150\n",
      "10679       155\n",
      "10680       180\n",
      "10681       160\n",
      "10682       500\n",
      "\n",
      "[10462 rows x 1 columns]\n"
     ]
    },
    {
     "data": {
      "text/plain": [
       "array([ 6147., 10773., 15802., ...,  9165.,  8687., 10403.])"
      ]
     },
     "execution_count": 49,
     "metadata": {},
     "output_type": "execute_result"
    }
   ],
   "source": [
    "package.predict(x)"
   ]
  },
  {
   "cell_type": "code",
   "execution_count": 50,
   "id": "61a07488",
   "metadata": {},
   "outputs": [],
   "source": [
    "test_data = pd.read_csv('Flight_Test.csv')"
   ]
  },
  {
   "cell_type": "code",
   "execution_count": 51,
   "id": "1185620b",
   "metadata": {},
   "outputs": [
    {
     "data": {
      "text/html": [
       "<div>\n",
       "<style scoped>\n",
       "    .dataframe tbody tr th:only-of-type {\n",
       "        vertical-align: middle;\n",
       "    }\n",
       "\n",
       "    .dataframe tbody tr th {\n",
       "        vertical-align: top;\n",
       "    }\n",
       "\n",
       "    .dataframe thead th {\n",
       "        text-align: right;\n",
       "    }\n",
       "</style>\n",
       "<table border=\"1\" class=\"dataframe\">\n",
       "  <thead>\n",
       "    <tr style=\"text-align: right;\">\n",
       "      <th></th>\n",
       "      <th>Airline</th>\n",
       "      <th>Date_of_Journey</th>\n",
       "      <th>Source</th>\n",
       "      <th>Destination</th>\n",
       "      <th>Route</th>\n",
       "      <th>Dep_Time</th>\n",
       "      <th>Arrival_Time</th>\n",
       "      <th>Duration</th>\n",
       "      <th>Total_Stops</th>\n",
       "      <th>Additional_Info</th>\n",
       "    </tr>\n",
       "  </thead>\n",
       "  <tbody>\n",
       "    <tr>\n",
       "      <th>0</th>\n",
       "      <td>Jet Airways</td>\n",
       "      <td>6/06/2019</td>\n",
       "      <td>Delhi</td>\n",
       "      <td>Cochin</td>\n",
       "      <td>DEL ? BOM ? COK</td>\n",
       "      <td>17:30</td>\n",
       "      <td>04:25 07 Jun</td>\n",
       "      <td>10h 55m</td>\n",
       "      <td>1 stop</td>\n",
       "      <td>No info</td>\n",
       "    </tr>\n",
       "    <tr>\n",
       "      <th>1</th>\n",
       "      <td>IndiGo</td>\n",
       "      <td>12/05/2019</td>\n",
       "      <td>Kolkata</td>\n",
       "      <td>Banglore</td>\n",
       "      <td>CCU ? MAA ? BLR</td>\n",
       "      <td>06:20</td>\n",
       "      <td>10:20</td>\n",
       "      <td>4h</td>\n",
       "      <td>1 stop</td>\n",
       "      <td>No info</td>\n",
       "    </tr>\n",
       "  </tbody>\n",
       "</table>\n",
       "</div>"
      ],
      "text/plain": [
       "       Airline Date_of_Journey   Source Destination            Route Dep_Time  \\\n",
       "0  Jet Airways       6/06/2019    Delhi      Cochin  DEL ? BOM ? COK    17:30   \n",
       "1       IndiGo      12/05/2019  Kolkata    Banglore  CCU ? MAA ? BLR    06:20   \n",
       "\n",
       "   Arrival_Time Duration Total_Stops Additional_Info  \n",
       "0  04:25 07 Jun  10h 55m      1 stop         No info  \n",
       "1         10:20       4h      1 stop         No info  "
      ]
     },
     "execution_count": 51,
     "metadata": {},
     "output_type": "execute_result"
    }
   ],
   "source": [
    "test_data.head(2)"
   ]
  },
  {
   "cell_type": "code",
   "execution_count": 52,
   "id": "21541b43",
   "metadata": {},
   "outputs": [
    {
     "name": "stdout",
     "output_type": "stream",
     "text": [
      "\n",
      ">>>>>>>transform() called.\n",
      "\n",
      "\n",
      ">>>> Input :                  Airline Date_of_Journey    Source Destination  \\\n",
      "0           Jet Airways       6/06/2019     Delhi      Cochin   \n",
      "1                IndiGo      12/05/2019   Kolkata    Banglore   \n",
      "2           Jet Airways      21/05/2019     Delhi      Cochin   \n",
      "3     Multiple carriers      21/05/2019     Delhi      Cochin   \n",
      "4              Air Asia      24/06/2019  Banglore       Delhi   \n",
      "...                 ...             ...       ...         ...   \n",
      "2666          Air India       6/06/2019   Kolkata    Banglore   \n",
      "2667             IndiGo      27/03/2019   Kolkata    Banglore   \n",
      "2668        Jet Airways       6/03/2019     Delhi      Cochin   \n",
      "2669          Air India       6/03/2019     Delhi      Cochin   \n",
      "2670  Multiple carriers      15/06/2019     Delhi      Cochin   \n",
      "\n",
      "                Route Dep_Time  Arrival_Time Total_Stops  \\\n",
      "0     DEL ? BOM ? COK    17:30  04:25 07 Jun      1 stop   \n",
      "1     CCU ? MAA ? BLR    06:20         10:20      1 stop   \n",
      "2     DEL ? BOM ? COK    19:15  19:00 22 May      1 stop   \n",
      "3     DEL ? BOM ? COK    08:00         21:00      1 stop   \n",
      "4           BLR ? DEL    23:55  02:45 25 Jun    non-stop   \n",
      "...               ...      ...           ...         ...   \n",
      "2666  CCU ? DEL ? BLR    20:30  20:25 07 Jun      1 stop   \n",
      "2667        CCU ? BLR    14:20         16:55    non-stop   \n",
      "2668  DEL ? BOM ? COK    21:50  04:25 07 Mar      1 stop   \n",
      "2669  DEL ? BOM ? COK    04:00         19:15      1 stop   \n",
      "2670  DEL ? BOM ? COK    04:55         19:15      1 stop   \n",
      "\n",
      "                  Additional_Info  \n",
      "0                         No info  \n",
      "1                         No info  \n",
      "2     In-flight meal not included  \n",
      "3                         No info  \n",
      "4                         No info  \n",
      "...                           ...  \n",
      "2666                      No info  \n",
      "2667                      No info  \n",
      "2668                      No info  \n",
      "2669                      No info  \n",
      "2670                      No info  \n",
      "\n",
      "[2671 rows x 9 columns]\n",
      "\n",
      ">>>> Output :                  Airline    Source Destination Dep_Time Arrival_Time  \\\n",
      "0           Jet Airways     delhi      cochin       PM           AM   \n",
      "1                IndiGo   kolkata    banglore       AM           AM   \n",
      "2           Jet Airways     delhi      cochin       PM           PM   \n",
      "3     Multiple carriers     delhi      cochin       AM           PM   \n",
      "4              Air Asia  banglore       delhi       PM           AM   \n",
      "...                 ...       ...         ...      ...          ...   \n",
      "2666          Air India   kolkata    banglore       PM           PM   \n",
      "2667             IndiGo   kolkata    banglore       PM           PM   \n",
      "2668        Jet Airways     delhi      cochin       PM           AM   \n",
      "2669          Air India     delhi      cochin       AM           PM   \n",
      "2670  Multiple carriers     delhi      cochin       AM           PM   \n",
      "\n",
      "     Total_Stops              Additional_Info Day_of_Journey  Month  \n",
      "0         1 stop                      No Info       Thursday   June  \n",
      "1         1 stop                      No Info         Sunday    May  \n",
      "2         1 stop  In-flight meal not included        Tuesday    May  \n",
      "3         1 stop                      No Info        Tuesday    May  \n",
      "4       non-stop                      No Info         Monday   June  \n",
      "...          ...                          ...            ...    ...  \n",
      "2666      1 stop                      No Info       Thursday   June  \n",
      "2667    non-stop                      No Info      Wednesday  March  \n",
      "2668      1 stop                      No Info      Wednesday  March  \n",
      "2669      1 stop                      No Info      Wednesday  March  \n",
      "2670      1 stop                      No Info       Saturday   June  \n",
      "\n",
      "[2671 rows x 9 columns]\n",
      "\n",
      ">>>>>>>transform() called.\n",
      "\n",
      "\n",
      ">>>> Input :       Duration\n",
      "0     10h 55m\n",
      "1          4h\n",
      "2     23h 45m\n",
      "3         13h\n",
      "4      2h 50m\n",
      "...       ...\n",
      "2666  23h 55m\n",
      "2667   2h 35m\n",
      "2668   6h 35m\n",
      "2669  15h 15m\n",
      "2670  14h 20m\n",
      "\n",
      "[2671 rows x 1 columns]\n",
      "\n",
      ">>>> Output :        Duration\n",
      "0          655\n",
      "1          240\n",
      "2         1425\n",
      "3          780\n",
      "4          170\n",
      "...        ...\n",
      "2666      1435\n",
      "2667       155\n",
      "2668       395\n",
      "2669       915\n",
      "2670       860\n",
      "\n",
      "[2671 rows x 1 columns]\n"
     ]
    },
    {
     "data": {
      "text/plain": [
       "array([12971.,  7901., 10069., ..., 14836., 10385., 10984.])"
      ]
     },
     "execution_count": 52,
     "metadata": {},
     "output_type": "execute_result"
    }
   ],
   "source": [
    "package.predict(test_data)"
   ]
  },
  {
   "cell_type": "code",
   "execution_count": 53,
   "id": "49d7636d",
   "metadata": {},
   "outputs": [
    {
     "data": {
      "text/plain": [
       "['FlightPrice.pkl']"
      ]
     },
     "execution_count": 53,
     "metadata": {},
     "output_type": "execute_result"
    }
   ],
   "source": [
    "joblib.dump(package,'FlightPrice.pkl')"
   ]
  },
  {
   "cell_type": "code",
   "execution_count": 54,
   "id": "8149d45b",
   "metadata": {},
   "outputs": [],
   "source": [
    "model_load = joblib.load('FlightPrice.pkl')"
   ]
  },
  {
   "cell_type": "code",
   "execution_count": 55,
   "id": "6c7812bf",
   "metadata": {},
   "outputs": [
    {
     "name": "stdout",
     "output_type": "stream",
     "text": [
      "\n",
      ">>>>>>>transform() called.\n",
      "\n",
      "\n",
      ">>>> Input :                  Airline Date_of_Journey    Source Destination  \\\n",
      "0           Jet Airways       6/06/2019     Delhi      Cochin   \n",
      "1                IndiGo      12/05/2019   Kolkata    Banglore   \n",
      "2           Jet Airways      21/05/2019     Delhi      Cochin   \n",
      "3     Multiple carriers      21/05/2019     Delhi      Cochin   \n",
      "4              Air Asia      24/06/2019  Banglore       Delhi   \n",
      "...                 ...             ...       ...         ...   \n",
      "2666          Air India       6/06/2019   Kolkata    Banglore   \n",
      "2667             IndiGo      27/03/2019   Kolkata    Banglore   \n",
      "2668        Jet Airways       6/03/2019     Delhi      Cochin   \n",
      "2669          Air India       6/03/2019     Delhi      Cochin   \n",
      "2670  Multiple carriers      15/06/2019     Delhi      Cochin   \n",
      "\n",
      "                Route Dep_Time  Arrival_Time Total_Stops  \\\n",
      "0     DEL ? BOM ? COK    17:30  04:25 07 Jun      1 stop   \n",
      "1     CCU ? MAA ? BLR    06:20         10:20      1 stop   \n",
      "2     DEL ? BOM ? COK    19:15  19:00 22 May      1 stop   \n",
      "3     DEL ? BOM ? COK    08:00         21:00      1 stop   \n",
      "4           BLR ? DEL    23:55  02:45 25 Jun    non-stop   \n",
      "...               ...      ...           ...         ...   \n",
      "2666  CCU ? DEL ? BLR    20:30  20:25 07 Jun      1 stop   \n",
      "2667        CCU ? BLR    14:20         16:55    non-stop   \n",
      "2668  DEL ? BOM ? COK    21:50  04:25 07 Mar      1 stop   \n",
      "2669  DEL ? BOM ? COK    04:00         19:15      1 stop   \n",
      "2670  DEL ? BOM ? COK    04:55         19:15      1 stop   \n",
      "\n",
      "                  Additional_Info  \n",
      "0                         No info  \n",
      "1                         No info  \n",
      "2     In-flight meal not included  \n",
      "3                         No info  \n",
      "4                         No info  \n",
      "...                           ...  \n",
      "2666                      No info  \n",
      "2667                      No info  \n",
      "2668                      No info  \n",
      "2669                      No info  \n",
      "2670                      No info  \n",
      "\n",
      "[2671 rows x 9 columns]\n",
      "\n",
      ">>>> Output :                  Airline    Source Destination Dep_Time Arrival_Time  \\\n",
      "0           Jet Airways     delhi      cochin       PM           AM   \n",
      "1                IndiGo   kolkata    banglore       AM           AM   \n",
      "2           Jet Airways     delhi      cochin       PM           PM   \n",
      "3     Multiple carriers     delhi      cochin       AM           PM   \n",
      "4              Air Asia  banglore       delhi       PM           AM   \n",
      "...                 ...       ...         ...      ...          ...   \n",
      "2666          Air India   kolkata    banglore       PM           PM   \n",
      "2667             IndiGo   kolkata    banglore       PM           PM   \n",
      "2668        Jet Airways     delhi      cochin       PM           AM   \n",
      "2669          Air India     delhi      cochin       AM           PM   \n",
      "2670  Multiple carriers     delhi      cochin       AM           PM   \n",
      "\n",
      "     Total_Stops              Additional_Info Day_of_Journey  Month  \n",
      "0         1 stop                      No Info       Thursday   June  \n",
      "1         1 stop                      No Info         Sunday    May  \n",
      "2         1 stop  In-flight meal not included        Tuesday    May  \n",
      "3         1 stop                      No Info        Tuesday    May  \n",
      "4       non-stop                      No Info         Monday   June  \n",
      "...          ...                          ...            ...    ...  \n",
      "2666      1 stop                      No Info       Thursday   June  \n",
      "2667    non-stop                      No Info      Wednesday  March  \n",
      "2668      1 stop                      No Info      Wednesday  March  \n",
      "2669      1 stop                      No Info      Wednesday  March  \n",
      "2670      1 stop                      No Info       Saturday   June  \n",
      "\n",
      "[2671 rows x 9 columns]\n",
      "\n",
      ">>>>>>>transform() called.\n",
      "\n",
      "\n",
      ">>>> Input :       Duration\n",
      "0     10h 55m\n",
      "1          4h\n",
      "2     23h 45m\n",
      "3         13h\n",
      "4      2h 50m\n",
      "...       ...\n",
      "2666  23h 55m\n",
      "2667   2h 35m\n",
      "2668   6h 35m\n",
      "2669  15h 15m\n",
      "2670  14h 20m\n",
      "\n",
      "[2671 rows x 1 columns]\n",
      "\n",
      ">>>> Output :        Duration\n",
      "0          655\n",
      "1          240\n",
      "2         1425\n",
      "3          780\n",
      "4          170\n",
      "...        ...\n",
      "2666      1435\n",
      "2667       155\n",
      "2668       395\n",
      "2669       915\n",
      "2670       860\n",
      "\n",
      "[2671 rows x 1 columns]\n"
     ]
    },
    {
     "data": {
      "text/plain": [
       "array([12971.,  7901., 10069., ..., 14836., 10385., 10984.])"
      ]
     },
     "execution_count": 55,
     "metadata": {},
     "output_type": "execute_result"
    }
   ],
   "source": [
    "model_load.predict(test_data)"
   ]
  },
  {
   "cell_type": "code",
   "execution_count": 24,
   "id": "548b46c2",
   "metadata": {},
   "outputs": [],
   "source": [
    "testsample = ['IndiGo','12/05/2019','Kolkata','Banglore','CCU ? MAA ? BLR','06:20','10:20','4h','1 stop','No info']"
   ]
  },
  {
   "cell_type": "code",
   "execution_count": 25,
   "id": "2546db7b",
   "metadata": {},
   "outputs": [],
   "source": [
    "testsample = pd.DataFrame(testsample).T"
   ]
  },
  {
   "cell_type": "code",
   "execution_count": 26,
   "id": "d19055ff",
   "metadata": {},
   "outputs": [],
   "source": [
    "testsample.columns = test_data.columns"
   ]
  },
  {
   "cell_type": "code",
   "execution_count": 27,
   "id": "30007242",
   "metadata": {},
   "outputs": [
    {
     "data": {
      "text/html": [
       "<div>\n",
       "<style scoped>\n",
       "    .dataframe tbody tr th:only-of-type {\n",
       "        vertical-align: middle;\n",
       "    }\n",
       "\n",
       "    .dataframe tbody tr th {\n",
       "        vertical-align: top;\n",
       "    }\n",
       "\n",
       "    .dataframe thead th {\n",
       "        text-align: right;\n",
       "    }\n",
       "</style>\n",
       "<table border=\"1\" class=\"dataframe\">\n",
       "  <thead>\n",
       "    <tr style=\"text-align: right;\">\n",
       "      <th></th>\n",
       "      <th>Airline</th>\n",
       "      <th>Date_of_Journey</th>\n",
       "      <th>Source</th>\n",
       "      <th>Destination</th>\n",
       "      <th>Route</th>\n",
       "      <th>Dep_Time</th>\n",
       "      <th>Arrival_Time</th>\n",
       "      <th>Duration</th>\n",
       "      <th>Total_Stops</th>\n",
       "      <th>Additional_Info</th>\n",
       "    </tr>\n",
       "  </thead>\n",
       "  <tbody>\n",
       "    <tr>\n",
       "      <th>0</th>\n",
       "      <td>IndiGo</td>\n",
       "      <td>12/05/2019</td>\n",
       "      <td>Kolkata</td>\n",
       "      <td>Banglore</td>\n",
       "      <td>CCU ? MAA ? BLR</td>\n",
       "      <td>06:20</td>\n",
       "      <td>10:20</td>\n",
       "      <td>4h</td>\n",
       "      <td>1 stop</td>\n",
       "      <td>No info</td>\n",
       "    </tr>\n",
       "  </tbody>\n",
       "</table>\n",
       "</div>"
      ],
      "text/plain": [
       "  Airline Date_of_Journey   Source Destination            Route Dep_Time  \\\n",
       "0  IndiGo      12/05/2019  Kolkata    Banglore  CCU ? MAA ? BLR    06:20   \n",
       "\n",
       "  Arrival_Time Duration Total_Stops Additional_Info  \n",
       "0        10:20       4h      1 stop         No info  "
      ]
     },
     "execution_count": 27,
     "metadata": {},
     "output_type": "execute_result"
    }
   ],
   "source": [
    "testsample"
   ]
  },
  {
   "cell_type": "code",
   "execution_count": 28,
   "id": "57bee840",
   "metadata": {},
   "outputs": [
    {
     "name": "stdout",
     "output_type": "stream",
     "text": [
      "\n",
      ">>>>>>>transform() called.\n",
      "\n",
      "\n",
      ">>>> Input :    Airline Date_of_Journey   Source Destination            Route Dep_Time  \\\n",
      "0  IndiGo      12/05/2019  Kolkata    Banglore  CCU ? MAA ? BLR    06:20   \n",
      "\n",
      "  Arrival_Time Total_Stops Additional_Info  \n",
      "0        10:20      1 stop         No info  \n",
      "\n",
      ">>>> Output :    Airline   Source Destination Dep_Time Arrival_Time Total_Stops  \\\n",
      "0  IndiGo  kolkata    banglore       AM           AM      1 stop   \n",
      "\n",
      "  Additional_Info Day_of_Journey Month  \n",
      "0         No Info         Sunday   May  \n",
      "\n",
      ">>>>>>>transform() called.\n",
      "\n",
      "\n",
      ">>>> Input :    Duration\n",
      "0       4h\n",
      "\n",
      ">>>> Output :     Duration\n",
      "0       240\n"
     ]
    },
    {
     "data": {
      "text/plain": [
       "array([7901.])"
      ]
     },
     "execution_count": 28,
     "metadata": {},
     "output_type": "execute_result"
    }
   ],
   "source": [
    "package.predict(testsample)"
   ]
  },
  {
   "cell_type": "code",
   "execution_count": null,
   "id": "ee5b39f8",
   "metadata": {},
   "outputs": [],
   "source": []
  }
 ],
 "metadata": {
  "kernelspec": {
   "display_name": "Python 3 (ipykernel)",
   "language": "python",
   "name": "python3"
  },
  "language_info": {
   "codemirror_mode": {
    "name": "ipython",
    "version": 3
   },
   "file_extension": ".py",
   "mimetype": "text/x-python",
   "name": "python",
   "nbconvert_exporter": "python",
   "pygments_lexer": "ipython3",
   "version": "3.11.3"
  }
 },
 "nbformat": 4,
 "nbformat_minor": 5
}
